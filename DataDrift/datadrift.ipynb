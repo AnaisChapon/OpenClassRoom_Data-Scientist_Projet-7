{
 "cells": [
  {
   "cell_type": "code",
   "execution_count": 1,
   "id": "d5435d83-0c10-4dfd-b6eb-20f4a29cdf66",
   "metadata": {
    "tags": []
   },
   "outputs": [
    {
     "name": "stdout",
     "output_type": "stream",
     "text": [
      "Les colonnes correspondent!\n",
      "Création du data_drift_report\n",
      "Run du data_drift_report\n",
      "23.431599617004395\n"
     ]
    }
   ],
   "source": [
    "import evidently\n",
    "import time \n",
    "from evidently.report import Report\n",
    "from evidently.metric_preset import DataDriftPreset\n",
    "from evidently import ColumnMapping\n",
    "import pandas as pd \n",
    "import numpy as np\n",
    "\n",
    "df = pd.read_csv('dataset_complet_light.csv', sep = \",\")\n",
    "application_train = df.dropna(subset=['TARGET']).drop(columns=['SK_ID_CURR','TARGET'])\n",
    "application_test = df[df['TARGET'].isna()].drop(columns=['SK_ID_CURR','TARGET'])\n",
    "\n",
    "#Pour les colonnes catégorielles on va ne prendre que les colonnes ayant que des 0 et des 1 \n",
    "categorical_columns = []\n",
    "\n",
    "# Parcourir chaque colonne\n",
    "for col in application_train.columns:\n",
    "    # Récupérer les valeurs uniques de la colonne\n",
    "    unique_vals = set(application_train[col].unique())\n",
    "    \n",
    "    # Vérifier si les valeurs uniques sont uniquement 0, 1, et potentiellement NaN\n",
    "    if unique_vals.issubset({0, 1, np.nan}):\n",
    "        categorical_columns.append(col)\n",
    "\n",
    "numerical_columns = [col for col in application_train.columns if col not in categorical_columns]\n",
    "\n",
    "start_time = time.time()\n",
    "\n",
    "# Vérifiez que vos deux DataFrames ont exactement les mêmes colonnes\n",
    "assert set(application_train.columns) == set(application_test.columns)\n",
    "\n",
    "# Si l'assertion est réussie, cela signifie que les colonnes correspondent\n",
    "print(\"Les colonnes correspondent!\")\n",
    "\n",
    "# Supprimer les colonnes vides de application_test\n",
    "application_test = application_test.dropna(axis=1, how='all')\n",
    "\n",
    "# Supprimer les mêmes colonnes de application_train pour garder la correspondance des colonnes\n",
    "common_columns = application_test.columns\n",
    "application_train = application_train[common_columns]\n",
    "\n",
    "# Création du column mapping\n",
    "column_mapping = ColumnMapping()\n",
    "\n",
    "column_mapping.numerical_features = numerical_columns\n",
    "column_mapping.categorical_features = categorical_columns\n",
    "\n",
    "# Créer le rapport de dérive des données\n",
    "data_drift_report = Report(metrics=[\n",
    "    DataDriftPreset(num_stattest='ks', cat_stattest='psi', num_stattest_threshold=0.2, cat_stattest_threshold=0.2),\n",
    "])\n",
    "\n",
    "print(\"Création du data_drift_report\")\n",
    "\n",
    "data_drift_report.run(reference_data=application_train, current_data=application_test, column_mapping=column_mapping)\n",
    "\n",
    "print(\"Run du data_drift_report\")\n",
    "\n",
    "elapsed_time_fit = time.time() - start_time\n",
    "print(elapsed_time_fit)\n",
    "\n",
    "# Sauvegardez le rapport en tant que fichier HTML\n",
    "data_drift_report.save_html('data_drift_report_FULL_light_script.html')"
   ]
  },
  {
   "cell_type": "code",
   "execution_count": null,
   "id": "0cf18c97-7012-454a-9270-bf109ccb075b",
   "metadata": {},
   "outputs": [],
   "source": []
  }
 ],
 "metadata": {
  "kernelspec": {
   "display_name": "Python 3 (ipykernel)",
   "language": "python",
   "name": "python3"
  },
  "language_info": {
   "codemirror_mode": {
    "name": "ipython",
    "version": 3
   },
   "file_extension": ".py",
   "mimetype": "text/x-python",
   "name": "python",
   "nbconvert_exporter": "python",
   "pygments_lexer": "ipython3",
   "version": "3.12.4"
  }
 },
 "nbformat": 4,
 "nbformat_minor": 5
}
